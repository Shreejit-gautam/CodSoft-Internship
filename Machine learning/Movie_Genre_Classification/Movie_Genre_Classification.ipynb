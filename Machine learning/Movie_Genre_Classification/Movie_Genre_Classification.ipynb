{
 "cells": [
  {
   "cell_type": "markdown",
   "id": "efd8a401-f358-4a93-9bd8-9100d44cfc80",
   "metadata": {},
   "source": [
    "# CodSoft ML Internship"
   ]
  },
  {
   "cell_type": "markdown",
   "id": "54f4bcb9-d156-423f-90a6-4c60df5131bb",
   "metadata": {},
   "source": [
    "#### Name:Shreejit Gautam"
   ]
  },
  {
   "cell_type": "markdown",
   "id": "c9491e2c-85ba-4888-853b-d087d9238445",
   "metadata": {},
   "source": [
    "### Batch-May Batch A53"
   ]
  },
  {
   "cell_type": "markdown",
   "id": "b7b14df6-ea31-4033-a4db-dca94469991d",
   "metadata": {},
   "source": [
    "## Task 1:Movie Genre Classification"
   ]
  },
  {
   "cell_type": "markdown",
   "id": "09b8e290",
   "metadata": {},
   "source": [
    "### Importing all data "
   ]
  },
  {
   "cell_type": "code",
   "execution_count": 1,
   "id": "a0ebbf83",
   "metadata": {},
   "outputs": [],
   "source": [
    "import numpy as np\n",
    "import pandas as pd\n",
    "train_path = \"Genre Classification Dataset/train_data.txt\"\n",
    "train_data = pd.read_csv(train_path, sep=':::', names=['Title', 'Genre', 'Description'], engine='python')\n",
    "test_path =\"Genre Classification Dataset/test_data.txt\"\n",
    "test_data=pd.read_csv(test_path, sep=':::', names=['Id','Title','Description'], engine='python')\n",
    "test_data_solution=pd.read_csv(\"Genre Classification Dataset/test_data_solution.txt\", sep=':::', names=['Id','Title','Genre','Description'], engine='python')\n"
   ]
  },
  {
   "cell_type": "markdown",
   "id": "d5997d2a",
   "metadata": {},
   "source": [
    "### Taking Overview of all dataset"
   ]
  },
  {
   "cell_type": "code",
   "execution_count": 2,
   "id": "0f864c5d",
   "metadata": {},
   "outputs": [
    {
     "name": "stdout",
     "output_type": "stream",
     "text": [
      "Training data:\n",
      "                                              Title          Genre  \\\n",
      "1                     Oscar et la dame rose (2009)          drama    \n",
      "2                                     Cupid (1997)       thriller    \n",
      "3                 Young, Wild and Wonderful (1980)          adult    \n",
      "4                            The Secret Sin (1915)          drama    \n",
      "5                           The Unrecovered (2007)          drama    \n",
      "...                                             ...            ...   \n",
      "54210                              \"Bonino\" (1953)         comedy    \n",
      "54211                  Dead Girls Don't Cry (????)         horror    \n",
      "54212    Ronald Goedemondt: Ze bestaan echt (2008)    documentary    \n",
      "54213                     Make Your Own Bed (1944)         comedy    \n",
      "54214   Nature's Fury: Storm of the Century (2006)        history    \n",
      "\n",
      "                                             Description  \n",
      "1       Listening in to a conversation between his do...  \n",
      "2       A brother and sister with a past incestuous r...  \n",
      "3       As the bus empties the students for their fie...  \n",
      "4       To help their unemployed father make ends mee...  \n",
      "5       The film's title refers not only to the un-re...  \n",
      "...                                                  ...  \n",
      "54210   This short-lived NBC live sitcom centered on ...  \n",
      "54211   The NEXT Generation of EXPLOITATION. The sist...  \n",
      "54212   Ze bestaan echt, is a stand-up comedy about g...  \n",
      "54213   Walter and Vivian live in the country and hav...  \n",
      "54214   On Labor Day Weekend, 1935, the most intense ...  \n",
      "\n",
      "[54214 rows x 3 columns]\n",
      "                                 Title    Genre  \\\n",
      "count                            54214    54214   \n",
      "unique                           54214       27   \n",
      "top      Oscar et la dame rose (2009)    drama    \n",
      "freq                                 1    13613   \n",
      "\n",
      "                                              Description  \n",
      "count                                               54214  \n",
      "unique                                              54086  \n",
      "top      Grammy - music award of the American academy ...  \n",
      "freq                                                   12  \n"
     ]
    },
    {
     "data": {
      "text/plain": [
       "Title          0\n",
       "Genre          0\n",
       "Description    0\n",
       "dtype: int64"
      ]
     },
     "execution_count": 2,
     "metadata": {},
     "output_type": "execute_result"
    }
   ],
   "source": [
    "print(\"Training data:\")\n",
    "print(train_data)\n",
    "print(train_data.describe())\n",
    "#checking for null data\n",
    "train_data.isnull().sum()\n"
   ]
  },
  {
   "cell_type": "code",
   "execution_count": 3,
   "id": "65088aea-0aa5-44de-bbaa-e51007a517de",
   "metadata": {},
   "outputs": [
    {
     "name": "stdout",
     "output_type": "stream",
     "text": [
      "Testing data and solution\n",
      "          Id                             Title  \\\n",
      "0          1             Edgar's Lunch (1998)    \n",
      "1          2         La guerra de papá (1977)    \n",
      "2          3      Off the Beaten Track (2010)    \n",
      "3          4           Meu Amigo Hindu (2015)    \n",
      "4          5                Er nu zhai (1955)    \n",
      "...      ...                               ...   \n",
      "54195  54196   \"Tales of Light & Dark\" (2013)    \n",
      "54196  54197      Der letzte Mohikaner (1965)    \n",
      "54197  54198              Oliver Twink (2007)    \n",
      "54198  54199                Slipstream (1973)    \n",
      "54199  54200        Curitiba Zero Grau (2010)    \n",
      "\n",
      "                                             Description  \n",
      "0       L.R. Brane loves his life - his car, his apar...  \n",
      "1       Spain, March 1964: Quico is a very naughty ch...  \n",
      "2       One year in the life of Albin and his family ...  \n",
      "3       His father has died, he hasn't spoken with hi...  \n",
      "4       Before he was known internationally as a mart...  \n",
      "...                                                  ...  \n",
      "54195   Covering multiple genres, Tales of Light & Da...  \n",
      "54196   As Alice and Cora Munro attempt to find their...  \n",
      "54197   A movie 169 years in the making. Oliver Twist...  \n",
      "54198   Popular, but mysterious rock D.J Mike Mallard...  \n",
      "54199   Curitiba is a city in movement, with rhythms ...  \n",
      "\n",
      "[54200 rows x 3 columns]\n",
      "          Id                             Title          Genre  \\\n",
      "0          1             Edgar's Lunch (1998)       thriller    \n",
      "1          2         La guerra de papá (1977)         comedy    \n",
      "2          3      Off the Beaten Track (2010)    documentary    \n",
      "3          4           Meu Amigo Hindu (2015)          drama    \n",
      "4          5                Er nu zhai (1955)          drama    \n",
      "...      ...                               ...            ...   \n",
      "54195  54196   \"Tales of Light & Dark\" (2013)         horror    \n",
      "54196  54197      Der letzte Mohikaner (1965)        western    \n",
      "54197  54198              Oliver Twink (2007)          adult    \n",
      "54198  54199                Slipstream (1973)          drama    \n",
      "54199  54200        Curitiba Zero Grau (2010)          drama    \n",
      "\n",
      "                                             Description  \n",
      "0       L.R. Brane loves his life - his car, his apar...  \n",
      "1       Spain, March 1964: Quico is a very naughty ch...  \n",
      "2       One year in the life of Albin and his family ...  \n",
      "3       His father has died, he hasn't spoken with hi...  \n",
      "4       Before he was known internationally as a mart...  \n",
      "...                                                  ...  \n",
      "54195   Covering multiple genres, Tales of Light & Da...  \n",
      "54196   As Alice and Cora Munro attempt to find their...  \n",
      "54197   A movie 169 years in the making. Oliver Twist...  \n",
      "54198   Popular, but mysterious rock D.J Mike Mallard...  \n",
      "54199   Curitiba is a city in movement, with rhythms ...  \n",
      "\n",
      "[54200 rows x 4 columns]\n",
      "                 Id\n",
      "count  54200.000000\n",
      "mean   27100.500000\n",
      "std    15646.336632\n",
      "min        1.000000\n",
      "25%    13550.750000\n",
      "50%    27100.500000\n",
      "75%    40650.250000\n",
      "max    54200.000000\n"
     ]
    },
    {
     "data": {
      "text/plain": [
       "Id             0\n",
       "Title          0\n",
       "Description    0\n",
       "dtype: int64"
      ]
     },
     "execution_count": 3,
     "metadata": {},
     "output_type": "execute_result"
    }
   ],
   "source": [
    "print(\"Testing data and solution\")\n",
    "print(test_data)\n",
    "print(test_data_solution)\n",
    "print(test_data.describe())\n",
    "#checking for null data\n",
    "test_data.isnull().sum()"
   ]
  },
  {
   "cell_type": "markdown",
   "id": "c37aa563",
   "metadata": {},
   "source": [
    "### Visualizing the data"
   ]
  },
  {
   "cell_type": "code",
   "execution_count": 4,
   "id": "5e21c47b",
   "metadata": {},
   "outputs": [
    {
     "data": {
      "image/png": "[encoded data removed]",
      "text/plain": [
       "<Figure size 640x480 with 1 Axes>"
      ]
     },
     "metadata": {},
     "output_type": "display_data"
    },
    {
     "data": {
      "text/plain": [
       "<Figure size 2500x10000 with 0 Axes>"
      ]
     },
     "metadata": {},
     "output_type": "display_data"
    },
    {
     "data": {
      "image/png": "[encoded data removed]",
      "text/plain": [
       "<Figure size 640x480 with 1 Axes>"
      ]
     },
     "metadata": {},
     "output_type": "display_data"
    }
   ],
   "source": [
    "import matplotlib.pyplot as plt\n",
    "\n",
    "# Assuming Genre is a categorical column\n",
    "genre_counts = train_data['Genre'].value_counts()\n",
    "\n",
    "# Visualize number of movies per genre (Bar Chart)\n",
    "plt.bar(genre_counts.index, genre_counts.values)\n",
    "plt.xlabel(\"Genre\")\n",
    "plt.ylabel(\"Number of Movies\")\n",
    "plt.title(\"Distribution of Movies by Genre\")\n",
    "plt.xticks(rotation=75)  # Rotate x-axis labels for readability\n",
    "plt.figure(figsize=(25, 100))\n",
    "plt.show()\n",
    "\n",
    "# Analyze Description Length distribution (Histogram)\n",
    "# Might reveal differences in description styles between genres\n",
    "plt.hist(train_data[\"Description\"].str.len())\n",
    "plt.xlabel(\"Description Length\")\n",
    "plt.ylabel(\"Number of Movies\")\n",
    "plt.title(\"Distribution of Description Length\")\n",
    "plt.tight_layout()\n",
    "plt.show()"
   ]
  },
  {
   "cell_type": "markdown",
   "id": "bd6a3d88",
   "metadata": {},
   "source": [
    "### Preprocessing the training data"
   ]
  },
  {
   "cell_type": "code",
   "execution_count": 5,
   "id": "bbc46143-28e4-438b-b74c-76168833ef09",
   "metadata": {},
   "outputs": [
    {
     "name": "stderr",
     "output_type": "stream",
     "text": [
      "[nltk_data] Downloading package stopwords to\n",
      "[nltk_data]     C:\\Users\\ASUS\\AppData\\Roaming\\nltk_data...\n",
      "[nltk_data]   Package stopwords is already up-to-date!\n",
      "[nltk_data] Downloading package punkt to\n",
      "[nltk_data]     C:\\Users\\ASUS\\AppData\\Roaming\\nltk_data...\n",
      "[nltk_data]   Package punkt is already up-to-date!\n"
     ]
    },
    {
     "name": "stdout",
     "output_type": "stream",
     "text": [
      "                                             Description  \\\n",
      "1       Listening in to a conversation between his do...   \n",
      "2       A brother and sister with a past incestuous r...   \n",
      "3       As the bus empties the students for their fie...   \n",
      "4       To help their unemployed father make ends mee...   \n",
      "5       The film's title refers not only to the un-re...   \n",
      "...                                                  ...   \n",
      "54210   This short-lived NBC live sitcom centered on ...   \n",
      "54211   The NEXT Generation of EXPLOITATION. The sist...   \n",
      "54212   Ze bestaan echt, is a stand-up comedy about g...   \n",
      "54213   Walter and Vivian live in the country and hav...   \n",
      "54214   On Labor Day Weekend, 1935, the most intense ...   \n",
      "\n",
      "                                   Processed_Description  \n",
      "1      listen conversation doctor parent yearold osca...  \n",
      "2      brother sister past incestuous relationship cu...  \n",
      "3      bus empty student field trip museum natural hi...  \n",
      "4      help unemployed father make end meet edith twi...  \n",
      "5      film title refer unrecovered body ground zero ...  \n",
      "...                                                  ...  \n",
      "54210  shortlive nbc live sitcom center bonino worldf...  \n",
      "54211  next generation exploitation sister kapa bay s...  \n",
      "54212  ze bestaan echt standup comedy grow face fear ...  \n",
      "54213  walter vivian live country difficult time keep...  \n",
      "54214  labor day weekend intense hurricane ever make ...  \n",
      "\n",
      "[54214 rows x 2 columns]\n"
     ]
    }
   ],
   "source": [
    "import re\n",
    "import nltk\n",
    "import spacy\n",
    "from nltk.corpus import stopwords\n",
    "from nltk.tokenize import word_tokenize\n",
    "\n",
    "# Download NLTK stopwords\n",
    "nltk.download('stopwords')\n",
    "nltk.download('punkt')\n",
    "\n",
    "# Load SpaCy English model\n",
    "nlp = spacy.load('en_core_web_sm')\n",
    "\n",
    "\n",
    "def clean_text(text):\n",
    "    # Remove non-alphabetic characters and convert to lowercase\n",
    "    text = re.sub(r'[^a-zA-Z\\s]', '', text, re.I|re.A)\n",
    "    text = text.lower()\n",
    "    text = text.strip()\n",
    "    return text\n",
    "\n",
    "def tokenize_text(text):\n",
    "    # Tokenize the text\n",
    "    tokens = word_tokenize(text)\n",
    "    return tokens\n",
    "\n",
    "def remove_stopwords(tokens):\n",
    "    # Remove stopwords\n",
    "    stop_words = set(stopwords.words('english'))\n",
    "    filtered_tokens = [token for token in tokens if token not in stop_words]\n",
    "    return filtered_tokens\n",
    "\n",
    "def lemmatize_text(tokens):\n",
    "    # Lemmatize tokens\n",
    "    lemmatized_tokens = [token.lemma_ for token in nlp(' '.join(tokens))]\n",
    "    return lemmatized_tokens\n",
    "\n",
    "def preprocess_description(description):\n",
    "    cleaned_text = clean_text(description)\n",
    "    tokens = tokenize_text(cleaned_text)\n",
    "    tokens_no_stopwords = remove_stopwords(tokens)\n",
    "    lemmatized_tokens = lemmatize_text(tokens_no_stopwords)\n",
    "    return ' '.join(lemmatized_tokens)\n",
    "\n",
    "# Apply preprocessing to the dataset\n",
    "train_data['Processed_Description'] = train_data['Description'].apply(preprocess_description)\n",
    "\n",
    "# View the processed data\n",
    "print(train_data[['Description', 'Processed_Description']])"
   ]
  },
  {
   "cell_type": "markdown",
   "id": "148fae72",
   "metadata": {},
   "source": [
    "### Traning The Model"
   ]
  },
  {
   "cell_type": "code",
   "execution_count": 29,
   "id": "3425948f-5308-4820-9091-7d614bd7fc64",
   "metadata": {},
   "outputs": [],
   "source": [
    "from sklearn.feature_extraction.text import TfidfVectorizer\n",
    "from sklearn.model_selection import train_test_split\n",
    "from sklearn.svm import LinearSVC\n",
    "from sklearn.metrics import accuracy_score, classification_report,confusion_matrix\n",
    "# Initialize the TF-IDF vectorizer\n",
    "tfidf_vectorizer = TfidfVectorizer()\n",
    "\n",
    "# Fit and transform the training data\n",
    "X_train = tfidf_vectorizer.fit_transform(train_data['Processed_Description'])\n",
    "\n",
    "# Transform the test data\n",
    "X_test = tfidf_vectorizer.transform(test_data['Description'])\n",
    "y_test = test_data_solution['Genre']"
   ]
  },
  {
   "cell_type": "code",
   "execution_count": 30,
   "id": "1b7a1591-f299-4eed-8f29-9573e7f3b036",
   "metadata": {},
   "outputs": [
    {
     "name": "stderr",
     "output_type": "stream",
     "text": [
      "c:\\Users\\ASUS\\AppData\\Local\\Programs\\Python\\Python312\\Lib\\site-packages\\sklearn\\svm\\_classes.py:31: FutureWarning: The default value of `dual` will change from `True` to `'auto'` in 1.5. Set the value of `dual` explicitly to suppress the warning.\n",
      "  warnings.warn(\n"
     ]
    }
   ],
   "source": [
    "# Split the data into training and validation sets\n",
    "X_train, X_val, y_train, y_val = train_test_split(X_train, train_data['Genre'], test_size=0.2, random_state=42)\n",
    "sv_classifier = LinearSVC()\n",
    "sv_classifier.fit(X_train, y_train)\n",
    "y_pred = sv_classifier.predict(X_val)\n"
   ]
  },
  {
   "cell_type": "code",
   "execution_count": 31,
   "id": "a02d2208-9d4e-4f65-9365-2478df7d839e",
   "metadata": {},
   "outputs": [
    {
     "name": "stdout",
     "output_type": "stream",
     "text": [
      "On Validation set\n",
      "Accuracy: 0.5786221525408097\n",
      "Classification Report:\n",
      "               precision    recall  f1-score   support\n",
      "\n",
      "      action        0.48      0.34      0.40       263\n",
      "       adult        0.74      0.45      0.56       112\n",
      "   adventure        0.36      0.18      0.24       139\n",
      "   animation        0.37      0.13      0.20       104\n",
      "   biography        0.00      0.00      0.00        61\n",
      "      comedy        0.52      0.59      0.55      1443\n",
      "       crime        0.27      0.07      0.11       107\n",
      " documentary        0.68      0.81      0.74      2659\n",
      "       drama        0.56      0.72      0.63      2697\n",
      "      family        0.41      0.17      0.24       150\n",
      "     fantasy        0.43      0.08      0.14        74\n",
      "   game-show        0.88      0.53      0.66        40\n",
      "     history        0.33      0.02      0.04        45\n",
      "      horror        0.62      0.65      0.63       431\n",
      "       music        0.59      0.53      0.56       144\n",
      "     musical        0.40      0.08      0.13        50\n",
      "     mystery        0.67      0.04      0.07        56\n",
      "        news        0.33      0.03      0.05        34\n",
      "  reality-tv        0.50      0.29      0.36       192\n",
      "     romance        0.33      0.04      0.07       151\n",
      "      sci-fi        0.48      0.27      0.34       143\n",
      "       short        0.43      0.34      0.38      1045\n",
      "       sport        0.61      0.41      0.49        93\n",
      "   talk-show        0.53      0.25      0.34        81\n",
      "    thriller        0.32      0.17      0.22       309\n",
      "         war        0.33      0.05      0.09        20\n",
      "     western        0.82      0.82      0.82       200\n",
      "\n",
      "     accuracy                           0.58     10843\n",
      "    macro avg       0.48      0.30      0.34     10843\n",
      " weighted avg       0.55      0.58      0.55     10843\n",
      "\n"
     ]
    }
   ],
   "source": [
    "print(\"On Validation set\")\n",
    "accuracy = accuracy_score(y_val, y_pred)\n",
    "print(f'Accuracy: {accuracy}')\n",
    "\n",
    "# Detailed classification report\n",
    "print('Classification Report:')\n",
    "print(classification_report(y_val, y_pred))"
   ]
  },
  {
   "cell_type": "code",
   "execution_count": 32,
   "id": "2c3e7f41-a6ba-4ad0-ab94-0ea95e7409b2",
   "metadata": {},
   "outputs": [
    {
     "name": "stdout",
     "output_type": "stream",
     "text": [
      "On Test set\n",
      "Accuracy: 0.4481365313653137\n",
      "Classification Report:\n",
      "               precision    recall  f1-score   support\n",
      "\n",
      "      action        0.51      0.09      0.15      1314\n",
      "       adult        0.70      0.18      0.28       590\n",
      "   adventure        0.77      0.05      0.09       775\n",
      "   animation        0.39      0.03      0.06       498\n",
      "   biography        0.00      0.00      0.00       264\n",
      "      comedy        0.54      0.37      0.44      7446\n",
      "       crime        0.36      0.01      0.02       505\n",
      " documentary        0.72      0.43      0.54     13096\n",
      "       drama        0.40      0.85      0.54     13612\n",
      "      family        0.62      0.05      0.09       783\n",
      "     fantasy        0.33      0.01      0.01       322\n",
      "   game-show        0.98      0.25      0.40       193\n",
      "     history        0.00      0.00      0.00       243\n",
      "      horror        0.68      0.34      0.45      2204\n",
      "       music        0.51      0.50      0.51       731\n",
      "     musical        0.24      0.02      0.03       276\n",
      "     mystery        0.00      0.00      0.00       318\n",
      "        news        0.89      0.04      0.08       181\n",
      "  reality-tv        0.42      0.04      0.07       883\n",
      "     romance        0.40      0.01      0.01       672\n",
      "      sci-fi        0.52      0.17      0.26       646\n",
      "       short        0.23      0.39      0.29      5072\n",
      "       sport        0.71      0.27      0.39       431\n",
      "   talk-show        0.61      0.04      0.07       391\n",
      "    thriller        0.40      0.02      0.03      1590\n",
      "         war        1.00      0.02      0.03       132\n",
      "     western        0.93      0.54      0.68      1032\n",
      "\n",
      "     accuracy                           0.45     54200\n",
      "    macro avg       0.51      0.17      0.20     54200\n",
      " weighted avg       0.52      0.45      0.41     54200\n",
      "\n"
     ]
    }
   ],
   "source": [
    "y_test_predictions = sv_classifier.predict(X_test)\n",
    "print(\"On Test set\")\n",
    "accuracy = accuracy_score(y_test, y_test_predictions)\n",
    "print(f'Accuracy: {accuracy}')\n",
    "\n",
    "# Detailed classification report\n",
    "print('Classification Report:')\n",
    "print(classification_report(y_test, y_test_predictions))"
   ]
  },
  {
   "cell_type": "markdown",
   "id": "b71a3f80",
   "metadata": {},
   "source": [
    "### Taking sample test"
   ]
  },
  {
   "cell_type": "code",
   "execution_count": 34,
   "id": "8fd8174c-612b-4505-81ae-8c9c241b9bfe",
   "metadata": {},
   "outputs": [
    {
     "name": "stdout",
     "output_type": "stream",
     "text": [
      "[' drama ']\n"
     ]
    }
   ],
   "source": [
    "description=\"His father has died, he hasn't spoken with his brother for about 10 years and has a serious cancer. Diego is a talented film director with difficulty to deal with his sickness, which is making him lose his friends and family. His best friend and doctor Ricardo gives him the news that he needs a bone marrow transplantation, otherwise he'll die. He gets married to a beautiful woman, Livia, just before going to Seattle to get treatment. There, he undergoes numerous medical procedures. During treatment, he meets an Hindu boy, with whom he plays and whom he tells amazing stories. Odds are against him and when stakes are the highest, Diego gets a visit from a very uncommon man.\"\n",
    "t_v1 = tfidf_vectorizer.transform([description])\n",
    "pred_label = sv_classifier.predict(t_v1)\n",
    "print(np.array2string((pred_label)))"
   ]
  },
  {
   "cell_type": "markdown",
   "id": "571dd242",
   "metadata": {},
   "source": [
    "### Thank you"
   ]
  }
 ],
 "metadata": {
  "kernelspec": {
   "display_name": "Python 3 (ipykernel)",
   "language": "python",
   "name": "python3"
  },
  "language_info": {
   "codemirror_mode": {
    "name": "ipython",
    "version": 3
   },
   "file_extension": ".py",
   "mimetype": "text/x-python",
   "name": "python",
   "nbconvert_exporter": "python",
   "pygments_lexer": "ipython3",
   "version": "3.12.3"
  }
 },
 "nbformat": 4,
 "nbformat_minor": 5
}
