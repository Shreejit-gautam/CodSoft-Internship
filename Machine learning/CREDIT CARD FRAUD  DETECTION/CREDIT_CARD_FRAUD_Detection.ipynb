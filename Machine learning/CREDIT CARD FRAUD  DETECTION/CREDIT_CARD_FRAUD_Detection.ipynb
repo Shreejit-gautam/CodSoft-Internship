{
 "cells": [
  {
   "cell_type": "markdown",
   "metadata": {},
   "source": [
    "# CodSoft ML Internship\n",
    "#### Name:Shreejit Gautam\n",
    "### Batch-May Batch A53"
   ]
  },
  {
   "cell_type": "markdown",
   "metadata": {},
   "source": [
    "## Task 2: CREDIT CARD FRAUD DETECTION"
   ]
  },
  {
   "cell_type": "markdown",
   "metadata": {},
   "source": [
    "### Importing all data \n"
   ]
  },
  {
   "cell_type": "code",
   "execution_count": 31,
   "metadata": {},
   "outputs": [],
   "source": [
    "import numpy as np\n",
    "import pandas as pd\n",
    "Data_test=pd.read_csv('fraudTest.csv')\n",
    "Data_train=pd.read_csv('fraudTrain.csv')"
   ]
  },
  {
   "cell_type": "markdown",
   "metadata": {},
   "source": [
    "### Merging both Data_set"
   ]
  },
  {
   "cell_type": "code",
   "execution_count": 32,
   "metadata": {},
   "outputs": [
    {
     "data": {
      "text/html": [
       "<div>\n",
       "<style scoped>\n",
       "    .dataframe tbody tr th:only-of-type {\n",
       "        vertical-align: middle;\n",
       "    }\n",
       "\n",
       "    .dataframe tbody tr th {\n",
       "        vertical-align: top;\n",
       "    }\n",
       "\n",
       "    .dataframe thead th {\n",
       "        text-align: right;\n",
       "    }\n",
       "</style>\n",
       "<table border=\"1\" class=\"dataframe\">\n",
       "  <thead>\n",
       "    <tr style=\"text-align: right;\">\n",
       "      <th></th>\n",
       "      <th>Unnamed: 0</th>\n",
       "      <th>trans_date_trans_time</th>\n",
       "      <th>cc_num</th>\n",
       "      <th>merchant</th>\n",
       "      <th>category</th>\n",
       "      <th>amt</th>\n",
       "      <th>first</th>\n",
       "      <th>last</th>\n",
       "      <th>gender</th>\n",
       "      <th>street</th>\n",
       "      <th>...</th>\n",
       "      <th>lat</th>\n",
       "      <th>long</th>\n",
       "      <th>city_pop</th>\n",
       "      <th>job</th>\n",
       "      <th>dob</th>\n",
       "      <th>trans_num</th>\n",
       "      <th>unix_time</th>\n",
       "      <th>merch_lat</th>\n",
       "      <th>merch_long</th>\n",
       "      <th>is_fraud</th>\n",
       "    </tr>\n",
       "  </thead>\n",
       "  <tbody>\n",
       "    <tr>\n",
       "      <th>0</th>\n",
       "      <td>0</td>\n",
       "      <td>2020-06-21 12:14:25</td>\n",
       "      <td>2291163933867244</td>\n",
       "      <td>fraud_Kirlin and Sons</td>\n",
       "      <td>personal_care</td>\n",
       "      <td>2.86</td>\n",
       "      <td>Jeff</td>\n",
       "      <td>Elliott</td>\n",
       "      <td>M</td>\n",
       "      <td>351 Darlene Green</td>\n",
       "      <td>...</td>\n",
       "      <td>33.9659</td>\n",
       "      <td>-80.9355</td>\n",
       "      <td>333497</td>\n",
       "      <td>Mechanical engineer</td>\n",
       "      <td>1968-03-19</td>\n",
       "      <td>2da90c7d74bd46a0caf3777415b3ebd3</td>\n",
       "      <td>1371816865</td>\n",
       "      <td>33.986391</td>\n",
       "      <td>-81.200714</td>\n",
       "      <td>0</td>\n",
       "    </tr>\n",
       "    <tr>\n",
       "      <th>1</th>\n",
       "      <td>1</td>\n",
       "      <td>2020-06-21 12:14:33</td>\n",
       "      <td>3573030041201292</td>\n",
       "      <td>fraud_Sporer-Keebler</td>\n",
       "      <td>personal_care</td>\n",
       "      <td>29.84</td>\n",
       "      <td>Joanne</td>\n",
       "      <td>Williams</td>\n",
       "      <td>F</td>\n",
       "      <td>3638 Marsh Union</td>\n",
       "      <td>...</td>\n",
       "      <td>40.3207</td>\n",
       "      <td>-110.4360</td>\n",
       "      <td>302</td>\n",
       "      <td>Sales professional, IT</td>\n",
       "      <td>1990-01-17</td>\n",
       "      <td>324cc204407e99f51b0d6ca0055005e7</td>\n",
       "      <td>1371816873</td>\n",
       "      <td>39.450498</td>\n",
       "      <td>-109.960431</td>\n",
       "      <td>0</td>\n",
       "    </tr>\n",
       "    <tr>\n",
       "      <th>2</th>\n",
       "      <td>2</td>\n",
       "      <td>2020-06-21 12:14:53</td>\n",
       "      <td>3598215285024754</td>\n",
       "      <td>fraud_Swaniawski, Nitzsche and Welch</td>\n",
       "      <td>health_fitness</td>\n",
       "      <td>41.28</td>\n",
       "      <td>Ashley</td>\n",
       "      <td>Lopez</td>\n",
       "      <td>F</td>\n",
       "      <td>9333 Valentine Point</td>\n",
       "      <td>...</td>\n",
       "      <td>40.6729</td>\n",
       "      <td>-73.5365</td>\n",
       "      <td>34496</td>\n",
       "      <td>Librarian, public</td>\n",
       "      <td>1970-10-21</td>\n",
       "      <td>c81755dbbbea9d5c77f094348a7579be</td>\n",
       "      <td>1371816893</td>\n",
       "      <td>40.495810</td>\n",
       "      <td>-74.196111</td>\n",
       "      <td>0</td>\n",
       "    </tr>\n",
       "    <tr>\n",
       "      <th>3</th>\n",
       "      <td>3</td>\n",
       "      <td>2020-06-21 12:15:15</td>\n",
       "      <td>3591919803438423</td>\n",
       "      <td>fraud_Haley Group</td>\n",
       "      <td>misc_pos</td>\n",
       "      <td>60.05</td>\n",
       "      <td>Brian</td>\n",
       "      <td>Williams</td>\n",
       "      <td>M</td>\n",
       "      <td>32941 Krystal Mill Apt. 552</td>\n",
       "      <td>...</td>\n",
       "      <td>28.5697</td>\n",
       "      <td>-80.8191</td>\n",
       "      <td>54767</td>\n",
       "      <td>Set designer</td>\n",
       "      <td>1987-07-25</td>\n",
       "      <td>2159175b9efe66dc301f149d3d5abf8c</td>\n",
       "      <td>1371816915</td>\n",
       "      <td>28.812398</td>\n",
       "      <td>-80.883061</td>\n",
       "      <td>0</td>\n",
       "    </tr>\n",
       "    <tr>\n",
       "      <th>4</th>\n",
       "      <td>4</td>\n",
       "      <td>2020-06-21 12:15:17</td>\n",
       "      <td>3526826139003047</td>\n",
       "      <td>fraud_Johnston-Casper</td>\n",
       "      <td>travel</td>\n",
       "      <td>3.19</td>\n",
       "      <td>Nathan</td>\n",
       "      <td>Massey</td>\n",
       "      <td>M</td>\n",
       "      <td>5783 Evan Roads Apt. 465</td>\n",
       "      <td>...</td>\n",
       "      <td>44.2529</td>\n",
       "      <td>-85.0170</td>\n",
       "      <td>1126</td>\n",
       "      <td>Furniture designer</td>\n",
       "      <td>1955-07-06</td>\n",
       "      <td>57ff021bd3f328f8738bb535c302a31b</td>\n",
       "      <td>1371816917</td>\n",
       "      <td>44.959148</td>\n",
       "      <td>-85.884734</td>\n",
       "      <td>0</td>\n",
       "    </tr>\n",
       "  </tbody>\n",
       "</table>\n",
       "<p>5 rows × 23 columns</p>\n",
       "</div>"
      ],
      "text/plain": [
       "   Unnamed: 0 trans_date_trans_time            cc_num  \\\n",
       "0           0   2020-06-21 12:14:25  2291163933867244   \n",
       "1           1   2020-06-21 12:14:33  3573030041201292   \n",
       "2           2   2020-06-21 12:14:53  3598215285024754   \n",
       "3           3   2020-06-21 12:15:15  3591919803438423   \n",
       "4           4   2020-06-21 12:15:17  3526826139003047   \n",
       "\n",
       "                               merchant        category    amt   first  \\\n",
       "0                 fraud_Kirlin and Sons   personal_care   2.86    Jeff   \n",
       "1                  fraud_Sporer-Keebler   personal_care  29.84  Joanne   \n",
       "2  fraud_Swaniawski, Nitzsche and Welch  health_fitness  41.28  Ashley   \n",
       "3                     fraud_Haley Group        misc_pos  60.05   Brian   \n",
       "4                 fraud_Johnston-Casper          travel   3.19  Nathan   \n",
       "\n",
       "       last gender                       street  ...      lat      long  \\\n",
       "0   Elliott      M            351 Darlene Green  ...  33.9659  -80.9355   \n",
       "1  Williams      F             3638 Marsh Union  ...  40.3207 -110.4360   \n",
       "2     Lopez      F         9333 Valentine Point  ...  40.6729  -73.5365   \n",
       "3  Williams      M  32941 Krystal Mill Apt. 552  ...  28.5697  -80.8191   \n",
       "4    Massey      M     5783 Evan Roads Apt. 465  ...  44.2529  -85.0170   \n",
       "\n",
       "   city_pop                     job         dob  \\\n",
       "0    333497     Mechanical engineer  1968-03-19   \n",
       "1       302  Sales professional, IT  1990-01-17   \n",
       "2     34496       Librarian, public  1970-10-21   \n",
       "3     54767            Set designer  1987-07-25   \n",
       "4      1126      Furniture designer  1955-07-06   \n",
       "\n",
       "                          trans_num   unix_time  merch_lat  merch_long  \\\n",
       "0  2da90c7d74bd46a0caf3777415b3ebd3  1371816865  33.986391  -81.200714   \n",
       "1  324cc204407e99f51b0d6ca0055005e7  1371816873  39.450498 -109.960431   \n",
       "2  c81755dbbbea9d5c77f094348a7579be  1371816893  40.495810  -74.196111   \n",
       "3  2159175b9efe66dc301f149d3d5abf8c  1371816915  28.812398  -80.883061   \n",
       "4  57ff021bd3f328f8738bb535c302a31b  1371816917  44.959148  -85.884734   \n",
       "\n",
       "   is_fraud  \n",
       "0         0  \n",
       "1         0  \n",
       "2         0  \n",
       "3         0  \n",
       "4         0  \n",
       "\n",
       "[5 rows x 23 columns]"
      ]
     },
     "execution_count": 32,
     "metadata": {},
     "output_type": "execute_result"
    }
   ],
   "source": [
    "Merged_data=pd.concat([Data_test,Data_train])\n",
    "Merged_data.head()\n"
   ]
  },
  {
   "cell_type": "code",
   "execution_count": 33,
   "metadata": {},
   "outputs": [
    {
     "data": {
      "text/html": [
       "<div>\n",
       "<style scoped>\n",
       "    .dataframe tbody tr th:only-of-type {\n",
       "        vertical-align: middle;\n",
       "    }\n",
       "\n",
       "    .dataframe tbody tr th {\n",
       "        vertical-align: top;\n",
       "    }\n",
       "\n",
       "    .dataframe thead th {\n",
       "        text-align: right;\n",
       "    }\n",
       "</style>\n",
       "<table border=\"1\" class=\"dataframe\">\n",
       "  <thead>\n",
       "    <tr style=\"text-align: right;\">\n",
       "      <th></th>\n",
       "      <th>Unnamed: 0</th>\n",
       "      <th>cc_num</th>\n",
       "      <th>amt</th>\n",
       "      <th>zip</th>\n",
       "      <th>lat</th>\n",
       "      <th>long</th>\n",
       "      <th>city_pop</th>\n",
       "      <th>unix_time</th>\n",
       "      <th>merch_lat</th>\n",
       "      <th>merch_long</th>\n",
       "      <th>is_fraud</th>\n",
       "    </tr>\n",
       "  </thead>\n",
       "  <tbody>\n",
       "    <tr>\n",
       "      <th>count</th>\n",
       "      <td>1.852394e+06</td>\n",
       "      <td>1.852394e+06</td>\n",
       "      <td>1.852394e+06</td>\n",
       "      <td>1.852394e+06</td>\n",
       "      <td>1.852394e+06</td>\n",
       "      <td>1.852394e+06</td>\n",
       "      <td>1.852394e+06</td>\n",
       "      <td>1.852394e+06</td>\n",
       "      <td>1.852394e+06</td>\n",
       "      <td>1.852394e+06</td>\n",
       "      <td>1.852394e+06</td>\n",
       "    </tr>\n",
       "    <tr>\n",
       "      <th>mean</th>\n",
       "      <td>5.371934e+05</td>\n",
       "      <td>4.173860e+17</td>\n",
       "      <td>7.006357e+01</td>\n",
       "      <td>4.881326e+04</td>\n",
       "      <td>3.853931e+01</td>\n",
       "      <td>-9.022783e+01</td>\n",
       "      <td>8.864367e+04</td>\n",
       "      <td>1.358674e+09</td>\n",
       "      <td>3.853898e+01</td>\n",
       "      <td>-9.022794e+01</td>\n",
       "      <td>5.210015e-03</td>\n",
       "    </tr>\n",
       "    <tr>\n",
       "      <th>std</th>\n",
       "      <td>3.669110e+05</td>\n",
       "      <td>1.309115e+18</td>\n",
       "      <td>1.592540e+02</td>\n",
       "      <td>2.688185e+04</td>\n",
       "      <td>5.071470e+00</td>\n",
       "      <td>1.374789e+01</td>\n",
       "      <td>3.014876e+05</td>\n",
       "      <td>1.819508e+07</td>\n",
       "      <td>5.105604e+00</td>\n",
       "      <td>1.375969e+01</td>\n",
       "      <td>7.199217e-02</td>\n",
       "    </tr>\n",
       "    <tr>\n",
       "      <th>min</th>\n",
       "      <td>0.000000e+00</td>\n",
       "      <td>6.041621e+10</td>\n",
       "      <td>1.000000e+00</td>\n",
       "      <td>1.257000e+03</td>\n",
       "      <td>2.002710e+01</td>\n",
       "      <td>-1.656723e+02</td>\n",
       "      <td>2.300000e+01</td>\n",
       "      <td>1.325376e+09</td>\n",
       "      <td>1.902742e+01</td>\n",
       "      <td>-1.666716e+02</td>\n",
       "      <td>0.000000e+00</td>\n",
       "    </tr>\n",
       "    <tr>\n",
       "      <th>25%</th>\n",
       "      <td>2.315490e+05</td>\n",
       "      <td>1.800429e+14</td>\n",
       "      <td>9.640000e+00</td>\n",
       "      <td>2.623700e+04</td>\n",
       "      <td>3.466890e+01</td>\n",
       "      <td>-9.679800e+01</td>\n",
       "      <td>7.410000e+02</td>\n",
       "      <td>1.343017e+09</td>\n",
       "      <td>3.474012e+01</td>\n",
       "      <td>-9.689944e+01</td>\n",
       "      <td>0.000000e+00</td>\n",
       "    </tr>\n",
       "    <tr>\n",
       "      <th>50%</th>\n",
       "      <td>4.630980e+05</td>\n",
       "      <td>3.521417e+15</td>\n",
       "      <td>4.745000e+01</td>\n",
       "      <td>4.817400e+04</td>\n",
       "      <td>3.935430e+01</td>\n",
       "      <td>-8.747690e+01</td>\n",
       "      <td>2.443000e+03</td>\n",
       "      <td>1.357089e+09</td>\n",
       "      <td>3.936890e+01</td>\n",
       "      <td>-8.744069e+01</td>\n",
       "      <td>0.000000e+00</td>\n",
       "    </tr>\n",
       "    <tr>\n",
       "      <th>75%</th>\n",
       "      <td>8.335758e+05</td>\n",
       "      <td>4.642255e+15</td>\n",
       "      <td>8.310000e+01</td>\n",
       "      <td>7.204200e+04</td>\n",
       "      <td>4.194040e+01</td>\n",
       "      <td>-8.015800e+01</td>\n",
       "      <td>2.032800e+04</td>\n",
       "      <td>1.374581e+09</td>\n",
       "      <td>4.195626e+01</td>\n",
       "      <td>-8.024511e+01</td>\n",
       "      <td>0.000000e+00</td>\n",
       "    </tr>\n",
       "    <tr>\n",
       "      <th>max</th>\n",
       "      <td>1.296674e+06</td>\n",
       "      <td>4.992346e+18</td>\n",
       "      <td>2.894890e+04</td>\n",
       "      <td>9.992100e+04</td>\n",
       "      <td>6.669330e+01</td>\n",
       "      <td>-6.795030e+01</td>\n",
       "      <td>2.906700e+06</td>\n",
       "      <td>1.388534e+09</td>\n",
       "      <td>6.751027e+01</td>\n",
       "      <td>-6.695090e+01</td>\n",
       "      <td>1.000000e+00</td>\n",
       "    </tr>\n",
       "  </tbody>\n",
       "</table>\n",
       "</div>"
      ],
      "text/plain": [
       "         Unnamed: 0        cc_num           amt           zip           lat  \\\n",
       "count  1.852394e+06  1.852394e+06  1.852394e+06  1.852394e+06  1.852394e+06   \n",
       "mean   5.371934e+05  4.173860e+17  7.006357e+01  4.881326e+04  3.853931e+01   \n",
       "std    3.669110e+05  1.309115e+18  1.592540e+02  2.688185e+04  5.071470e+00   \n",
       "min    0.000000e+00  6.041621e+10  1.000000e+00  1.257000e+03  2.002710e+01   \n",
       "25%    2.315490e+05  1.800429e+14  9.640000e+00  2.623700e+04  3.466890e+01   \n",
       "50%    4.630980e+05  3.521417e+15  4.745000e+01  4.817400e+04  3.935430e+01   \n",
       "75%    8.335758e+05  4.642255e+15  8.310000e+01  7.204200e+04  4.194040e+01   \n",
       "max    1.296674e+06  4.992346e+18  2.894890e+04  9.992100e+04  6.669330e+01   \n",
       "\n",
       "               long      city_pop     unix_time     merch_lat    merch_long  \\\n",
       "count  1.852394e+06  1.852394e+06  1.852394e+06  1.852394e+06  1.852394e+06   \n",
       "mean  -9.022783e+01  8.864367e+04  1.358674e+09  3.853898e+01 -9.022794e+01   \n",
       "std    1.374789e+01  3.014876e+05  1.819508e+07  5.105604e+00  1.375969e+01   \n",
       "min   -1.656723e+02  2.300000e+01  1.325376e+09  1.902742e+01 -1.666716e+02   \n",
       "25%   -9.679800e+01  7.410000e+02  1.343017e+09  3.474012e+01 -9.689944e+01   \n",
       "50%   -8.747690e+01  2.443000e+03  1.357089e+09  3.936890e+01 -8.744069e+01   \n",
       "75%   -8.015800e+01  2.032800e+04  1.374581e+09  4.195626e+01 -8.024511e+01   \n",
       "max   -6.795030e+01  2.906700e+06  1.388534e+09  6.751027e+01 -6.695090e+01   \n",
       "\n",
       "           is_fraud  \n",
       "count  1.852394e+06  \n",
       "mean   5.210015e-03  \n",
       "std    7.199217e-02  \n",
       "min    0.000000e+00  \n",
       "25%    0.000000e+00  \n",
       "50%    0.000000e+00  \n",
       "75%    0.000000e+00  \n",
       "max    1.000000e+00  "
      ]
     },
     "execution_count": 33,
     "metadata": {},
     "output_type": "execute_result"
    }
   ],
   "source": [
    "Merged_data.describe()"
   ]
  },
  {
   "cell_type": "code",
   "execution_count": 34,
   "metadata": {},
   "outputs": [
    {
     "name": "stdout",
     "output_type": "stream",
     "text": [
      "<class 'pandas.core.frame.DataFrame'>\n",
      "Index: 1852394 entries, 0 to 1296674\n",
      "Data columns (total 23 columns):\n",
      " #   Column                 Dtype  \n",
      "---  ------                 -----  \n",
      " 0   Unnamed: 0             int64  \n",
      " 1   trans_date_trans_time  object \n",
      " 2   cc_num                 int64  \n",
      " 3   merchant               object \n",
      " 4   category               object \n",
      " 5   amt                    float64\n",
      " 6   first                  object \n",
      " 7   last                   object \n",
      " 8   gender                 object \n",
      " 9   street                 object \n",
      " 10  city                   object \n",
      " 11  state                  object \n",
      " 12  zip                    int64  \n",
      " 13  lat                    float64\n",
      " 14  long                   float64\n",
      " 15  city_pop               int64  \n",
      " 16  job                    object \n",
      " 17  dob                    object \n",
      " 18  trans_num              object \n",
      " 19  unix_time              int64  \n",
      " 20  merch_lat              float64\n",
      " 21  merch_long             float64\n",
      " 22  is_fraud               int64  \n",
      "dtypes: float64(5), int64(6), object(12)\n",
      "memory usage: 339.2+ MB\n"
     ]
    }
   ],
   "source": [
    "Merged_data.info()"
   ]
  },
  {
   "cell_type": "markdown",
   "metadata": {},
   "source": [
    "### Checking for NaN/null and duplicated cell"
   ]
  },
  {
   "cell_type": "code",
   "execution_count": 35,
   "metadata": {},
   "outputs": [
    {
     "name": "stdout",
     "output_type": "stream",
     "text": [
      "All NUll data \n",
      " Unnamed: 0               0\n",
      "trans_date_trans_time    0\n",
      "cc_num                   0\n",
      "merchant                 0\n",
      "category                 0\n",
      "amt                      0\n",
      "first                    0\n",
      "last                     0\n",
      "gender                   0\n",
      "street                   0\n",
      "city                     0\n",
      "state                    0\n",
      "zip                      0\n",
      "lat                      0\n",
      "long                     0\n",
      "city_pop                 0\n",
      "job                      0\n",
      "dob                      0\n",
      "trans_num                0\n",
      "unix_time                0\n",
      "merch_lat                0\n",
      "merch_long               0\n",
      "is_fraud                 0\n",
      "dtype: int64\n",
      "Total duplicate: 0\n"
     ]
    }
   ],
   "source": [
    "print(\"All NUll data \\n\",Merged_data.isnull().sum())\n",
    "print(\"Total duplicate:\",Merged_data.duplicated().sum())"
   ]
  },
  {
   "cell_type": "markdown",
   "metadata": {},
   "source": [
    "### Checking distribution of data about label"
   ]
  },
  {
   "cell_type": "code",
   "execution_count": 36,
   "metadata": {},
   "outputs": [
    {
     "data": {
      "text/plain": [
       "<Axes: title={'center': 'Distribution of Data'}, xlabel='is_fraud'>"
      ]
     },
     "execution_count": 36,
     "metadata": {},
     "output_type": "execute_result"
    },
    {
     "data": {
      "image/png": "[encoded data removed]",
      "text/plain": [
       "<Figure size 640x480 with 1 Axes>"
      ]
     },
     "metadata": {},
     "output_type": "display_data"
    }
   ],
   "source": [
    "import seaborn as sns\n",
    "import matplotlib.pyplot as plt\n",
    "plt.title('Distribution of Data')\n",
    "colors = ['Green', 'Red']\n",
    "Merged_data.groupby('is_fraud').count()['cc_num'].plot.bar(color=colors)\n"
   ]
  },
  {
   "cell_type": "markdown",
   "metadata": {},
   "source": [
    "### Making equal distribution in data"
   ]
  },
  {
   "cell_type": "markdown",
   "metadata": {},
   "source": [
    "#### Splting data_set into Fraud and Non-Fraud"
   ]
  },
  {
   "cell_type": "code",
   "execution_count": 37,
   "metadata": {},
   "outputs": [
    {
     "name": "stdout",
     "output_type": "stream",
     "text": [
      "Total number of Fraud data are:9651\n",
      "Total number of Non-fraud Data are 1842743\n"
     ]
    }
   ],
   "source": [
    "fraud = Merged_data[Merged_data['is_fraud'] == 1]\n",
    "non_fraud = Merged_data[Merged_data['is_fraud'] == 0]\n",
    "\n",
    "print(f\"Total number of Fraud data are:{len(fraud)}\\nTotal number of Non-fraud Data are {len(non_fraud)}\")"
   ]
  },
  {
   "cell_type": "markdown",
   "metadata": {},
   "source": [
    "### Balancing Data"
   ]
  },
  {
   "cell_type": "code",
   "execution_count": 38,
   "metadata": {},
   "outputs": [
    {
     "data": {
      "text/plain": [
       "(19302, 23)"
      ]
     },
     "execution_count": 38,
     "metadata": {},
     "output_type": "execute_result"
    }
   ],
   "source": [
    "New_dataset= pd.concat([fraud, non_fraud.sample(len(fraud), random_state= 42)])\n",
    "New_dataset.shape"
   ]
  },
  {
   "cell_type": "code",
   "execution_count": 9,
   "metadata": {},
   "outputs": [
    {
     "data": {
      "text/plain": [
       "<Axes: title={'center': 'Distribution of Data'}, xlabel='is_fraud'>"
      ]
     },
     "execution_count": 9,
     "metadata": {},
     "output_type": "execute_result"
    },
    {
     "data": {
      "image/png": "[encoded data removed]",
      "text/plain": [
       "<Figure size 640x480 with 1 Axes>"
      ]
     },
     "metadata": {},
     "output_type": "display_data"
    }
   ],
   "source": [
    "import matplotlib.pyplot as plt\n",
    "plt.title('Distribution of Data')\n",
    "colors = ['Green', 'Red']\n",
    "New_dataset.groupby('is_fraud').count()['cc_num'].plot.bar(color=colors)"
   ]
  },
  {
   "cell_type": "markdown",
   "metadata": {},
   "source": [
    "### Co-relation Between the Variables"
   ]
  },
  {
   "cell_type": "code",
   "execution_count": 10,
   "metadata": {},
   "outputs": [
    {
     "data": {
      "image/png": "[encoded data removed]",
      "text/plain": [
       "<Figure size 960x800 with 2 Axes>"
      ]
     },
     "metadata": {},
     "output_type": "display_data"
    }
   ],
   "source": [
    "import seaborn as sns\n",
    "plt.figure(figsize=(12,10), dpi= 80)\n",
    "sns.heatmap(New_dataset[[i for i in New_dataset.columns\\\n",
    "                         if New_dataset[i].dtype == 'int64' \\\n",
    "                            or New_dataset[i].dtype == 'float64']]\\\n",
    "                            .corr(), cmap='RdYlGn', center=0, annot=True)\n",
    "\n",
    "# Decorations\n",
    "plt.xticks(fontsize=12)\n",
    "plt.yticks(fontsize=12)\n",
    "plt.show()"
   ]
  },
  {
   "cell_type": "markdown",
   "metadata": {},
   "source": [
    "### Removing Unrelevant Attributes"
   ]
  },
  {
   "cell_type": "code",
   "execution_count": 39,
   "metadata": {},
   "outputs": [
    {
     "data": {
      "text/html": [
       "<div>\n",
       "<style scoped>\n",
       "    .dataframe tbody tr th:only-of-type {\n",
       "        vertical-align: middle;\n",
       "    }\n",
       "\n",
       "    .dataframe tbody tr th {\n",
       "        vertical-align: top;\n",
       "    }\n",
       "\n",
       "    .dataframe thead th {\n",
       "        text-align: right;\n",
       "    }\n",
       "</style>\n",
       "<table border=\"1\" class=\"dataframe\">\n",
       "  <thead>\n",
       "    <tr style=\"text-align: right;\">\n",
       "      <th></th>\n",
       "      <th>trans_date_trans_time</th>\n",
       "      <th>category</th>\n",
       "      <th>amt</th>\n",
       "      <th>gender</th>\n",
       "      <th>city</th>\n",
       "      <th>lat</th>\n",
       "      <th>long</th>\n",
       "      <th>city_pop</th>\n",
       "      <th>dob</th>\n",
       "      <th>is_fraud</th>\n",
       "    </tr>\n",
       "  </thead>\n",
       "  <tbody>\n",
       "    <tr>\n",
       "      <th>1685</th>\n",
       "      <td>2020-06-21 22:06:39</td>\n",
       "      <td>health_fitness</td>\n",
       "      <td>24.84</td>\n",
       "      <td>F</td>\n",
       "      <td>Notrees</td>\n",
       "      <td>31.8599</td>\n",
       "      <td>-102.7413</td>\n",
       "      <td>23</td>\n",
       "      <td>1969-09-15</td>\n",
       "      <td>1</td>\n",
       "    </tr>\n",
       "    <tr>\n",
       "      <th>1767</th>\n",
       "      <td>2020-06-21 22:32:22</td>\n",
       "      <td>misc_net</td>\n",
       "      <td>780.52</td>\n",
       "      <td>M</td>\n",
       "      <td>Benton</td>\n",
       "      <td>42.5545</td>\n",
       "      <td>-90.3508</td>\n",
       "      <td>1306</td>\n",
       "      <td>1958-09-10</td>\n",
       "      <td>1</td>\n",
       "    </tr>\n",
       "    <tr>\n",
       "      <th>1781</th>\n",
       "      <td>2020-06-21 22:37:27</td>\n",
       "      <td>entertainment</td>\n",
       "      <td>620.33</td>\n",
       "      <td>M</td>\n",
       "      <td>Benton</td>\n",
       "      <td>42.5545</td>\n",
       "      <td>-90.3508</td>\n",
       "      <td>1306</td>\n",
       "      <td>1958-09-10</td>\n",
       "      <td>1</td>\n",
       "    </tr>\n",
       "    <tr>\n",
       "      <th>1784</th>\n",
       "      <td>2020-06-21 22:38:55</td>\n",
       "      <td>shopping_net</td>\n",
       "      <td>1077.69</td>\n",
       "      <td>M</td>\n",
       "      <td>Denham Springs</td>\n",
       "      <td>30.4590</td>\n",
       "      <td>-90.9027</td>\n",
       "      <td>71335</td>\n",
       "      <td>1994-05-31</td>\n",
       "      <td>1</td>\n",
       "    </tr>\n",
       "    <tr>\n",
       "      <th>1857</th>\n",
       "      <td>2020-06-21 23:02:16</td>\n",
       "      <td>shopping_pos</td>\n",
       "      <td>842.65</td>\n",
       "      <td>F</td>\n",
       "      <td>Notrees</td>\n",
       "      <td>31.8599</td>\n",
       "      <td>-102.7413</td>\n",
       "      <td>23</td>\n",
       "      <td>1969-09-15</td>\n",
       "      <td>1</td>\n",
       "    </tr>\n",
       "  </tbody>\n",
       "</table>\n",
       "</div>"
      ],
      "text/plain": [
       "     trans_date_trans_time        category      amt gender            city  \\\n",
       "1685   2020-06-21 22:06:39  health_fitness    24.84      F         Notrees   \n",
       "1767   2020-06-21 22:32:22        misc_net   780.52      M          Benton   \n",
       "1781   2020-06-21 22:37:27   entertainment   620.33      M          Benton   \n",
       "1784   2020-06-21 22:38:55    shopping_net  1077.69      M  Denham Springs   \n",
       "1857   2020-06-21 23:02:16    shopping_pos   842.65      F         Notrees   \n",
       "\n",
       "          lat      long  city_pop         dob  is_fraud  \n",
       "1685  31.8599 -102.7413        23  1969-09-15         1  \n",
       "1767  42.5545  -90.3508      1306  1958-09-10         1  \n",
       "1781  42.5545  -90.3508      1306  1958-09-10         1  \n",
       "1784  30.4590  -90.9027     71335  1994-05-31         1  \n",
       "1857  31.8599 -102.7413        23  1969-09-15         1  "
      ]
     },
     "execution_count": 39,
     "metadata": {},
     "output_type": "execute_result"
    }
   ],
   "source": [
    "Unrelevant_columns = ['Unnamed: 0',\n",
    "                   'merchant', \n",
    "                   'cc_num',\n",
    "                   'first', \n",
    "                   'last',\n",
    "                   'state',\n",
    "                   'trans_num',\n",
    "                   'unix_time',\n",
    "                   'street',\n",
    "                   'merch_lat',\n",
    "                   'merch_long',\n",
    "                   'job',\n",
    "                   'zip',\n",
    "                   ]\n",
    "\n",
    "New_dataset.drop(columns = Unrelevant_columns, inplace = True)\n",
    "New_dataset.head()"
   ]
  },
  {
   "cell_type": "code",
   "execution_count": 40,
   "metadata": {},
   "outputs": [
    {
     "data": {
      "text/html": [
       "<div>\n",
       "<style scoped>\n",
       "    .dataframe tbody tr th:only-of-type {\n",
       "        vertical-align: middle;\n",
       "    }\n",
       "\n",
       "    .dataframe tbody tr th {\n",
       "        vertical-align: top;\n",
       "    }\n",
       "\n",
       "    .dataframe thead th {\n",
       "        text-align: right;\n",
       "    }\n",
       "</style>\n",
       "<table border=\"1\" class=\"dataframe\">\n",
       "  <thead>\n",
       "    <tr style=\"text-align: right;\">\n",
       "      <th></th>\n",
       "      <th>trans_date_trans_time</th>\n",
       "      <th>category</th>\n",
       "      <th>amt</th>\n",
       "      <th>gender</th>\n",
       "      <th>city</th>\n",
       "      <th>lat</th>\n",
       "      <th>long</th>\n",
       "      <th>city_pop</th>\n",
       "      <th>age</th>\n",
       "      <th>is_fraud</th>\n",
       "      <th>trans_hour</th>\n",
       "    </tr>\n",
       "  </thead>\n",
       "  <tbody>\n",
       "    <tr>\n",
       "      <th>1685</th>\n",
       "      <td>2020-06-21 22:06:39</td>\n",
       "      <td>health_fitness</td>\n",
       "      <td>24.84</td>\n",
       "      <td>F</td>\n",
       "      <td>Notrees</td>\n",
       "      <td>31.8599</td>\n",
       "      <td>-102.7413</td>\n",
       "      <td>23</td>\n",
       "      <td>55</td>\n",
       "      <td>1</td>\n",
       "      <td>22</td>\n",
       "    </tr>\n",
       "    <tr>\n",
       "      <th>1767</th>\n",
       "      <td>2020-06-21 22:32:22</td>\n",
       "      <td>misc_net</td>\n",
       "      <td>780.52</td>\n",
       "      <td>M</td>\n",
       "      <td>Benton</td>\n",
       "      <td>42.5545</td>\n",
       "      <td>-90.3508</td>\n",
       "      <td>1306</td>\n",
       "      <td>66</td>\n",
       "      <td>1</td>\n",
       "      <td>22</td>\n",
       "    </tr>\n",
       "    <tr>\n",
       "      <th>1781</th>\n",
       "      <td>2020-06-21 22:37:27</td>\n",
       "      <td>entertainment</td>\n",
       "      <td>620.33</td>\n",
       "      <td>M</td>\n",
       "      <td>Benton</td>\n",
       "      <td>42.5545</td>\n",
       "      <td>-90.3508</td>\n",
       "      <td>1306</td>\n",
       "      <td>66</td>\n",
       "      <td>1</td>\n",
       "      <td>22</td>\n",
       "    </tr>\n",
       "    <tr>\n",
       "      <th>1784</th>\n",
       "      <td>2020-06-21 22:38:55</td>\n",
       "      <td>shopping_net</td>\n",
       "      <td>1077.69</td>\n",
       "      <td>M</td>\n",
       "      <td>Denham Springs</td>\n",
       "      <td>30.4590</td>\n",
       "      <td>-90.9027</td>\n",
       "      <td>71335</td>\n",
       "      <td>30</td>\n",
       "      <td>1</td>\n",
       "      <td>22</td>\n",
       "    </tr>\n",
       "    <tr>\n",
       "      <th>1857</th>\n",
       "      <td>2020-06-21 23:02:16</td>\n",
       "      <td>shopping_pos</td>\n",
       "      <td>842.65</td>\n",
       "      <td>F</td>\n",
       "      <td>Notrees</td>\n",
       "      <td>31.8599</td>\n",
       "      <td>-102.7413</td>\n",
       "      <td>23</td>\n",
       "      <td>55</td>\n",
       "      <td>1</td>\n",
       "      <td>23</td>\n",
       "    </tr>\n",
       "  </tbody>\n",
       "</table>\n",
       "</div>"
      ],
      "text/plain": [
       "     trans_date_trans_time        category      amt gender            city  \\\n",
       "1685   2020-06-21 22:06:39  health_fitness    24.84      F         Notrees   \n",
       "1767   2020-06-21 22:32:22        misc_net   780.52      M          Benton   \n",
       "1781   2020-06-21 22:37:27   entertainment   620.33      M          Benton   \n",
       "1784   2020-06-21 22:38:55    shopping_net  1077.69      M  Denham Springs   \n",
       "1857   2020-06-21 23:02:16    shopping_pos   842.65      F         Notrees   \n",
       "\n",
       "          lat      long  city_pop  age  is_fraud  trans_hour  \n",
       "1685  31.8599 -102.7413        23   55         1          22  \n",
       "1767  42.5545  -90.3508      1306   66         1          22  \n",
       "1781  42.5545  -90.3508      1306   66         1          22  \n",
       "1784  30.4590  -90.9027     71335   30         1          22  \n",
       "1857  31.8599 -102.7413        23   55         1          23  "
      ]
     },
     "execution_count": 40,
     "metadata": {},
     "output_type": "execute_result"
    }
   ],
   "source": [
    "# Extract hour from the transaction timestamp\n",
    "from datetime import datetime\n",
    "New_dataset['trans_date_trans_time'] = pd.to_datetime(New_dataset['trans_date_trans_time'])\n",
    "New_dataset['dob'] = pd.to_datetime(New_dataset['dob'])\n",
    "New_dataset['trans_hour'] = New_dataset['trans_date_trans_time'].dt.hour\n",
    "#Add Age attribute drom dob\n",
    "New_dataset = New_dataset.rename(columns = {'dob': 'age'})\n",
    "New_dataset['age'] = datetime.now().year - New_dataset['age'].dt.year    \n",
    "New_dataset.head()                             "
   ]
  },
  {
   "cell_type": "markdown",
   "metadata": {},
   "source": [
    "### Adding new column: Part_of_day and Age_Type"
   ]
  },
  {
   "cell_type": "code",
   "execution_count": 41,
   "metadata": {},
   "outputs": [
    {
     "data": {
      "text/html": [
       "<div>\n",
       "<style scoped>\n",
       "    .dataframe tbody tr th:only-of-type {\n",
       "        vertical-align: middle;\n",
       "    }\n",
       "\n",
       "    .dataframe tbody tr th {\n",
       "        vertical-align: top;\n",
       "    }\n",
       "\n",
       "    .dataframe thead th {\n",
       "        text-align: right;\n",
       "    }\n",
       "</style>\n",
       "<table border=\"1\" class=\"dataframe\">\n",
       "  <thead>\n",
       "    <tr style=\"text-align: right;\">\n",
       "      <th></th>\n",
       "      <th>trans_date_trans_time</th>\n",
       "      <th>category</th>\n",
       "      <th>amt</th>\n",
       "      <th>gender</th>\n",
       "      <th>city</th>\n",
       "      <th>lat</th>\n",
       "      <th>long</th>\n",
       "      <th>city_pop</th>\n",
       "      <th>age</th>\n",
       "      <th>is_fraud</th>\n",
       "      <th>trans_hour</th>\n",
       "      <th>POD</th>\n",
       "      <th>Age_types</th>\n",
       "    </tr>\n",
       "  </thead>\n",
       "  <tbody>\n",
       "    <tr>\n",
       "      <th>1685</th>\n",
       "      <td>2020-06-21 22:06:39</td>\n",
       "      <td>health_fitness</td>\n",
       "      <td>24.84</td>\n",
       "      <td>F</td>\n",
       "      <td>Notrees</td>\n",
       "      <td>31.8599</td>\n",
       "      <td>-102.7413</td>\n",
       "      <td>23</td>\n",
       "      <td>55.0</td>\n",
       "      <td>1.0</td>\n",
       "      <td>22</td>\n",
       "      <td>night</td>\n",
       "      <td>Middle-Aged</td>\n",
       "    </tr>\n",
       "    <tr>\n",
       "      <th>1767</th>\n",
       "      <td>2020-06-21 22:32:22</td>\n",
       "      <td>misc_net</td>\n",
       "      <td>780.52</td>\n",
       "      <td>M</td>\n",
       "      <td>Benton</td>\n",
       "      <td>42.5545</td>\n",
       "      <td>-90.3508</td>\n",
       "      <td>1306</td>\n",
       "      <td>66.0</td>\n",
       "      <td>1.0</td>\n",
       "      <td>22</td>\n",
       "      <td>night</td>\n",
       "      <td>Old</td>\n",
       "    </tr>\n",
       "    <tr>\n",
       "      <th>1781</th>\n",
       "      <td>2020-06-21 22:37:27</td>\n",
       "      <td>entertainment</td>\n",
       "      <td>620.33</td>\n",
       "      <td>M</td>\n",
       "      <td>Benton</td>\n",
       "      <td>42.5545</td>\n",
       "      <td>-90.3508</td>\n",
       "      <td>1306</td>\n",
       "      <td>66.0</td>\n",
       "      <td>1.0</td>\n",
       "      <td>22</td>\n",
       "      <td>night</td>\n",
       "      <td>Old</td>\n",
       "    </tr>\n",
       "    <tr>\n",
       "      <th>1784</th>\n",
       "      <td>2020-06-21 22:38:55</td>\n",
       "      <td>shopping_net</td>\n",
       "      <td>1077.69</td>\n",
       "      <td>M</td>\n",
       "      <td>Denham Springs</td>\n",
       "      <td>30.4590</td>\n",
       "      <td>-90.9027</td>\n",
       "      <td>71335</td>\n",
       "      <td>30.0</td>\n",
       "      <td>1.0</td>\n",
       "      <td>22</td>\n",
       "      <td>night</td>\n",
       "      <td>Middle-Aged</td>\n",
       "    </tr>\n",
       "    <tr>\n",
       "      <th>1857</th>\n",
       "      <td>2020-06-21 23:02:16</td>\n",
       "      <td>shopping_pos</td>\n",
       "      <td>842.65</td>\n",
       "      <td>F</td>\n",
       "      <td>Notrees</td>\n",
       "      <td>31.8599</td>\n",
       "      <td>-102.7413</td>\n",
       "      <td>23</td>\n",
       "      <td>55.0</td>\n",
       "      <td>1.0</td>\n",
       "      <td>23</td>\n",
       "      <td>night</td>\n",
       "      <td>Middle-Aged</td>\n",
       "    </tr>\n",
       "  </tbody>\n",
       "</table>\n",
       "</div>"
      ],
      "text/plain": [
       "     trans_date_trans_time        category      amt gender            city  \\\n",
       "1685   2020-06-21 22:06:39  health_fitness    24.84      F         Notrees   \n",
       "1767   2020-06-21 22:32:22        misc_net   780.52      M          Benton   \n",
       "1781   2020-06-21 22:37:27   entertainment   620.33      M          Benton   \n",
       "1784   2020-06-21 22:38:55    shopping_net  1077.69      M  Denham Springs   \n",
       "1857   2020-06-21 23:02:16    shopping_pos   842.65      F         Notrees   \n",
       "\n",
       "          lat      long  city_pop   age  is_fraud  trans_hour    POD  \\\n",
       "1685  31.8599 -102.7413        23  55.0       1.0          22  night   \n",
       "1767  42.5545  -90.3508      1306  66.0       1.0          22  night   \n",
       "1781  42.5545  -90.3508      1306  66.0       1.0          22  night   \n",
       "1784  30.4590  -90.9027     71335  30.0       1.0          22  night   \n",
       "1857  31.8599 -102.7413        23  55.0       1.0          23  night   \n",
       "\n",
       "        Age_types  \n",
       "1685  Middle-Aged  \n",
       "1767          Old  \n",
       "1781          Old  \n",
       "1784  Middle-Aged  \n",
       "1857  Middle-Aged  "
      ]
     },
     "execution_count": 41,
     "metadata": {},
     "output_type": "execute_result"
    }
   ],
   "source": [
    "def Part_of_day(hour):\n",
    "    if  4<= hour['trans_hour'] <= 11:\n",
    "        pod = \"morning\"\n",
    "    elif 12 <= hour['trans_hour'] <= 20:\n",
    "        pod =\"afternoon\"\n",
    "    else:\n",
    "        pod = \"night\"\n",
    "    return pod\n",
    "def Age_Type(age):\n",
    "    if  age['age'] <= 29 :\n",
    "        At = \"Young\"\n",
    "    elif 30 <= age['age'] <=59 :\n",
    "        At = \"Middle-Aged\"\n",
    "    else:\n",
    "        At = \"Old\"\n",
    "    return At\n",
    "New_dataset['POD'] = New_dataset.apply(Part_of_day, axis = 1)\n",
    "New_dataset[['is_fraud', 'age']] = New_dataset[['is_fraud', 'age']].astype('float64')\n",
    "New_dataset['Age_types'] = New_dataset.apply(Age_Type , axis = 1)\n",
    "New_dataset.head()\n"
   ]
  },
  {
   "cell_type": "markdown",
   "metadata": {},
   "source": [
    "### Relation between hours and Fraudual Transaction"
   ]
  },
  {
   "cell_type": "code",
   "execution_count": 42,
   "metadata": {},
   "outputs": [
    {
     "data": {
      "image/png": "[encoded data removed]",
      "text/plain": [
       "<Figure size 1500x500 with 2 Axes>"
      ]
     },
     "metadata": {},
     "output_type": "display_data"
    }
   ],
   "source": [
    "f, (ax1, ax2) = plt.subplots(1, 2, figsize=(15,5), sharey=True)\n",
    "\n",
    "ax1 = sns.histplot(x='trans_hour', data=New_dataset[New_dataset[\"is_fraud\"] == 0],\n",
    "                   stat=\"density\", bins=24, ax=ax1, color=\"green\")\n",
    "\n",
    "ax2 = sns.histplot(x='trans_hour', data=New_dataset[New_dataset[\"is_fraud\"] == 1],\n",
    "                   stat=\"density\", bins=24, ax=ax2, color=\"red\")\n",
    "\n",
    "ax1.set_title(\"Not Fraud\")\n",
    "ax2.set_title(\"Fraud\")\n",
    "\n",
    "ax1.set_xticks(np.arange(24)) # ticks of the day 0 -> 23\n",
    "ax2.set_xticks(np.arange(24));"
   ]
  },
  {
   "cell_type": "code",
   "execution_count": 15,
   "metadata": {},
   "outputs": [
    {
     "data": {
      "image/png": "[encoded data removed]",
      "text/plain": [
       "<Figure size 1000x600 with 1 Axes>"
      ]
     },
     "metadata": {},
     "output_type": "display_data"
    }
   ],
   "source": [
    "plt.figure(figsize=(10, 6))\n",
    "sns.countplot(data=New_dataset, x='POD', hue='is_fraud', order=['morning', 'afternoon', 'night'])\n",
    "plt.title('Fraud Distribution by Part_of_day')\n",
    "plt.xlabel('Part of day')\n",
    "plt.ylabel('Count')\n",
    "plt.legend(title='is_fraud')\n",
    "plt.show()\n"
   ]
  },
  {
   "cell_type": "code",
   "execution_count": 44,
   "metadata": {},
   "outputs": [
    {
     "data": {
      "image/png": "[encoded data removed]",
      "text/plain": [
       "<Figure size 1500x500 with 2 Axes>"
      ]
     },
     "metadata": {},
     "output_type": "display_data"
    }
   ],
   "source": [
    "f, (ax1, ax2) = plt.subplots(1, 2, figsize=(15,5), sharey=True)\n",
    "\n",
    "ax1 = sns.histplot(x='age', data=New_dataset[New_dataset[\"is_fraud\"] == 0],\n",
    "                   stat=\"density\", bins=24, ax=ax1, color=\"green\")\n",
    "\n",
    "ax2 = sns.histplot(x='age', data=New_dataset[New_dataset[\"is_fraud\"] == 1],\n",
    "                   stat=\"density\", bins=24, ax=ax2, color=\"red\")\n",
    "\n",
    "ax1.set_title(\"Not Fraud\")\n",
    "ax2.set_title(\"Fraud\")\n",
    "\n",
    "ax1.set_xticks(np.arange(0,5,10)) # ticks of the day 0 -> 23\n",
    "ax2.set_xticks(np.arange(0,5,10));"
   ]
  },
  {
   "cell_type": "code",
   "execution_count": 17,
   "metadata": {},
   "outputs": [
    {
     "data": {
      "image/png": "[encoded data removed]",
      "text/plain": [
       "<Figure size 1000x600 with 1 Axes>"
      ]
     },
     "metadata": {},
     "output_type": "display_data"
    }
   ],
   "source": [
    "plt.figure(figsize=(10, 6))\n",
    "sns.countplot(data=New_dataset, x='Age_types', hue='is_fraud', order=['Middle-Aged', 'Old', 'Young'])\n",
    "plt.title('Fraud Distribution by Ages')\n",
    "plt.xlabel('Age group')\n",
    "plt.ylabel('Count')\n",
    "plt.legend(title='is_fraud')\n",
    "plt.show()"
   ]
  },
  {
   "cell_type": "code",
   "execution_count": 45,
   "metadata": {},
   "outputs": [],
   "source": [
    "# since trans_hour  and age has no direct correlation with label as POD and Age_types\n",
    "# we drop the trans_hour\n",
    "New_dataset.drop(columns=['age','trans_hour'],inplace=True)"
   ]
  },
  {
   "cell_type": "markdown",
   "metadata": {},
   "source": [
    "### Label Encoding"
   ]
  },
  {
   "cell_type": "code",
   "execution_count": 19,
   "metadata": {},
   "outputs": [],
   "source": [
    "New_dataset['gender'] = New_dataset['gender'].map({'F': 0, 'M': 1})\n",
    "NUMERICAL_FEATURES = ['amt', 'lat', 'long', 'city_pop', 'gender','age', 'is_fraud', 'trans_hour']\n",
    "CATEGORICAL_FEATURES = ['POD', 'Age_types']\n"
   ]
  },
  {
   "cell_type": "code",
   "execution_count": 20,
   "metadata": {},
   "outputs": [],
   "source": [
    "New_dataset=pd.get_dummies(New_dataset,columns=CATEGORICAL_FEATURES,drop_first=True)\n",
    "from category_encoders import WOEEncoder\n",
    "# applying WOE encoding\n",
    "for col in  ['category','city']:\n",
    "    New_dataset[col] = WOEEncoder().fit_transform(New_dataset[col],New_dataset['is_fraud'])"
   ]
  },
  {
   "cell_type": "code",
   "execution_count": 21,
   "metadata": {},
   "outputs": [
    {
     "data": {
      "text/html": [
       "<div>\n",
       "<style scoped>\n",
       "    .dataframe tbody tr th:only-of-type {\n",
       "        vertical-align: middle;\n",
       "    }\n",
       "\n",
       "    .dataframe tbody tr th {\n",
       "        vertical-align: top;\n",
       "    }\n",
       "\n",
       "    .dataframe thead th {\n",
       "        text-align: right;\n",
       "    }\n",
       "</style>\n",
       "<table border=\"1\" class=\"dataframe\">\n",
       "  <thead>\n",
       "    <tr style=\"text-align: right;\">\n",
       "      <th></th>\n",
       "      <th>trans_date_trans_time</th>\n",
       "      <th>category</th>\n",
       "      <th>amt</th>\n",
       "      <th>gender</th>\n",
       "      <th>city</th>\n",
       "      <th>lat</th>\n",
       "      <th>long</th>\n",
       "      <th>city_pop</th>\n",
       "      <th>is_fraud</th>\n",
       "      <th>POD_morning</th>\n",
       "      <th>POD_night</th>\n",
       "      <th>Age_types_Old</th>\n",
       "      <th>Age_types_Young</th>\n",
       "    </tr>\n",
       "  </thead>\n",
       "  <tbody>\n",
       "    <tr>\n",
       "      <th>1685</th>\n",
       "      <td>2020-06-21 22:06:39</td>\n",
       "      <td>-1.272535</td>\n",
       "      <td>24.84</td>\n",
       "      <td>0</td>\n",
       "      <td>-0.441833</td>\n",
       "      <td>31.8599</td>\n",
       "      <td>-102.7413</td>\n",
       "      <td>23</td>\n",
       "      <td>1.0</td>\n",
       "      <td>False</td>\n",
       "      <td>True</td>\n",
       "      <td>False</td>\n",
       "      <td>False</td>\n",
       "    </tr>\n",
       "    <tr>\n",
       "      <th>1767</th>\n",
       "      <td>2020-06-21 22:32:22</td>\n",
       "      <td>0.973250</td>\n",
       "      <td>780.52</td>\n",
       "      <td>1</td>\n",
       "      <td>1.435085</td>\n",
       "      <td>42.5545</td>\n",
       "      <td>-90.3508</td>\n",
       "      <td>1306</td>\n",
       "      <td>1.0</td>\n",
       "      <td>False</td>\n",
       "      <td>True</td>\n",
       "      <td>True</td>\n",
       "      <td>False</td>\n",
       "    </tr>\n",
       "    <tr>\n",
       "      <th>1781</th>\n",
       "      <td>2020-06-21 22:37:27</td>\n",
       "      <td>-0.912872</td>\n",
       "      <td>620.33</td>\n",
       "      <td>1</td>\n",
       "      <td>1.435085</td>\n",
       "      <td>42.5545</td>\n",
       "      <td>-90.3508</td>\n",
       "      <td>1306</td>\n",
       "      <td>1.0</td>\n",
       "      <td>False</td>\n",
       "      <td>True</td>\n",
       "      <td>True</td>\n",
       "      <td>False</td>\n",
       "    </tr>\n",
       "    <tr>\n",
       "      <th>1784</th>\n",
       "      <td>2020-06-21 22:38:55</td>\n",
       "      <td>1.142818</td>\n",
       "      <td>1077.69</td>\n",
       "      <td>1</td>\n",
       "      <td>-0.780159</td>\n",
       "      <td>30.4590</td>\n",
       "      <td>-90.9027</td>\n",
       "      <td>71335</td>\n",
       "      <td>1.0</td>\n",
       "      <td>False</td>\n",
       "      <td>True</td>\n",
       "      <td>False</td>\n",
       "      <td>False</td>\n",
       "    </tr>\n",
       "    <tr>\n",
       "      <th>1857</th>\n",
       "      <td>2020-06-21 23:02:16</td>\n",
       "      <td>0.156361</td>\n",
       "      <td>842.65</td>\n",
       "      <td>0</td>\n",
       "      <td>-0.441833</td>\n",
       "      <td>31.8599</td>\n",
       "      <td>-102.7413</td>\n",
       "      <td>23</td>\n",
       "      <td>1.0</td>\n",
       "      <td>False</td>\n",
       "      <td>True</td>\n",
       "      <td>False</td>\n",
       "      <td>False</td>\n",
       "    </tr>\n",
       "  </tbody>\n",
       "</table>\n",
       "</div>"
      ],
      "text/plain": [
       "     trans_date_trans_time  category      amt  gender      city      lat  \\\n",
       "1685   2020-06-21 22:06:39 -1.272535    24.84       0 -0.441833  31.8599   \n",
       "1767   2020-06-21 22:32:22  0.973250   780.52       1  1.435085  42.5545   \n",
       "1781   2020-06-21 22:37:27 -0.912872   620.33       1  1.435085  42.5545   \n",
       "1784   2020-06-21 22:38:55  1.142818  1077.69       1 -0.780159  30.4590   \n",
       "1857   2020-06-21 23:02:16  0.156361   842.65       0 -0.441833  31.8599   \n",
       "\n",
       "          long  city_pop  is_fraud  POD_morning  POD_night  Age_types_Old  \\\n",
       "1685 -102.7413        23       1.0        False       True          False   \n",
       "1767  -90.3508      1306       1.0        False       True           True   \n",
       "1781  -90.3508      1306       1.0        False       True           True   \n",
       "1784  -90.9027     71335       1.0        False       True          False   \n",
       "1857 -102.7413        23       1.0        False       True          False   \n",
       "\n",
       "      Age_types_Young  \n",
       "1685            False  \n",
       "1767            False  \n",
       "1781            False  \n",
       "1784            False  \n",
       "1857            False  "
      ]
     },
     "execution_count": 21,
     "metadata": {},
     "output_type": "execute_result"
    }
   ],
   "source": [
    "New_dataset.head()"
   ]
  },
  {
   "cell_type": "code",
   "execution_count": 22,
   "metadata": {},
   "outputs": [
    {
     "data": {
      "text/html": [
       "<div>\n",
       "<style scoped>\n",
       "    .dataframe tbody tr th:only-of-type {\n",
       "        vertical-align: middle;\n",
       "    }\n",
       "\n",
       "    .dataframe tbody tr th {\n",
       "        vertical-align: top;\n",
       "    }\n",
       "\n",
       "    .dataframe thead th {\n",
       "        text-align: right;\n",
       "    }\n",
       "</style>\n",
       "<table border=\"1\" class=\"dataframe\">\n",
       "  <thead>\n",
       "    <tr style=\"text-align: right;\">\n",
       "      <th></th>\n",
       "      <th>category</th>\n",
       "      <th>amt</th>\n",
       "      <th>gender</th>\n",
       "      <th>city</th>\n",
       "      <th>lat</th>\n",
       "      <th>long</th>\n",
       "      <th>city_pop</th>\n",
       "      <th>is_fraud</th>\n",
       "      <th>POD_morning</th>\n",
       "      <th>POD_night</th>\n",
       "      <th>Age_types_Old</th>\n",
       "      <th>Age_types_Young</th>\n",
       "    </tr>\n",
       "  </thead>\n",
       "  <tbody>\n",
       "    <tr>\n",
       "      <th>1685</th>\n",
       "      <td>-1.272535</td>\n",
       "      <td>24.84</td>\n",
       "      <td>0</td>\n",
       "      <td>-0.441833</td>\n",
       "      <td>31.8599</td>\n",
       "      <td>-102.7413</td>\n",
       "      <td>23</td>\n",
       "      <td>1.0</td>\n",
       "      <td>False</td>\n",
       "      <td>True</td>\n",
       "      <td>False</td>\n",
       "      <td>False</td>\n",
       "    </tr>\n",
       "    <tr>\n",
       "      <th>1767</th>\n",
       "      <td>0.973250</td>\n",
       "      <td>780.52</td>\n",
       "      <td>1</td>\n",
       "      <td>1.435085</td>\n",
       "      <td>42.5545</td>\n",
       "      <td>-90.3508</td>\n",
       "      <td>1306</td>\n",
       "      <td>1.0</td>\n",
       "      <td>False</td>\n",
       "      <td>True</td>\n",
       "      <td>True</td>\n",
       "      <td>False</td>\n",
       "    </tr>\n",
       "    <tr>\n",
       "      <th>1781</th>\n",
       "      <td>-0.912872</td>\n",
       "      <td>620.33</td>\n",
       "      <td>1</td>\n",
       "      <td>1.435085</td>\n",
       "      <td>42.5545</td>\n",
       "      <td>-90.3508</td>\n",
       "      <td>1306</td>\n",
       "      <td>1.0</td>\n",
       "      <td>False</td>\n",
       "      <td>True</td>\n",
       "      <td>True</td>\n",
       "      <td>False</td>\n",
       "    </tr>\n",
       "    <tr>\n",
       "      <th>1784</th>\n",
       "      <td>1.142818</td>\n",
       "      <td>1077.69</td>\n",
       "      <td>1</td>\n",
       "      <td>-0.780159</td>\n",
       "      <td>30.4590</td>\n",
       "      <td>-90.9027</td>\n",
       "      <td>71335</td>\n",
       "      <td>1.0</td>\n",
       "      <td>False</td>\n",
       "      <td>True</td>\n",
       "      <td>False</td>\n",
       "      <td>False</td>\n",
       "    </tr>\n",
       "    <tr>\n",
       "      <th>1857</th>\n",
       "      <td>0.156361</td>\n",
       "      <td>842.65</td>\n",
       "      <td>0</td>\n",
       "      <td>-0.441833</td>\n",
       "      <td>31.8599</td>\n",
       "      <td>-102.7413</td>\n",
       "      <td>23</td>\n",
       "      <td>1.0</td>\n",
       "      <td>False</td>\n",
       "      <td>True</td>\n",
       "      <td>False</td>\n",
       "      <td>False</td>\n",
       "    </tr>\n",
       "  </tbody>\n",
       "</table>\n",
       "</div>"
      ],
      "text/plain": [
       "      category      amt  gender      city      lat      long  city_pop  \\\n",
       "1685 -1.272535    24.84       0 -0.441833  31.8599 -102.7413        23   \n",
       "1767  0.973250   780.52       1  1.435085  42.5545  -90.3508      1306   \n",
       "1781 -0.912872   620.33       1  1.435085  42.5545  -90.3508      1306   \n",
       "1784  1.142818  1077.69       1 -0.780159  30.4590  -90.9027     71335   \n",
       "1857  0.156361   842.65       0 -0.441833  31.8599 -102.7413        23   \n",
       "\n",
       "      is_fraud  POD_morning  POD_night  Age_types_Old  Age_types_Young  \n",
       "1685       1.0        False       True          False            False  \n",
       "1767       1.0        False       True           True            False  \n",
       "1781       1.0        False       True           True            False  \n",
       "1784       1.0        False       True          False            False  \n",
       "1857       1.0        False       True          False            False  "
      ]
     },
     "execution_count": 22,
     "metadata": {},
     "output_type": "execute_result"
    }
   ],
   "source": [
    "New_dataset.drop(columns='trans_date_trans_time',inplace=True)\n",
    "New_dataset.head()"
   ]
  },
  {
   "cell_type": "markdown",
   "metadata": {},
   "source": [
    "Spliting Data_set for training and testing"
   ]
  },
  {
   "cell_type": "code",
   "execution_count": 23,
   "metadata": {},
   "outputs": [],
   "source": [
    "from sklearn.model_selection import train_test_split\n",
    "X = New_dataset.drop(columns = 'is_fraud')\n",
    "Y = New_dataset['is_fraud']\n",
    "x_train, x_test, y_train, y_test = train_test_split(X, Y, test_size=0.2, random_state=42)"
   ]
  },
  {
   "cell_type": "markdown",
   "metadata": {},
   "source": [
    "### Scaling dataset"
   ]
  },
  {
   "cell_type": "code",
   "execution_count": 24,
   "metadata": {},
   "outputs": [],
   "source": [
    "from sklearn.preprocessing import MinMaxScaler\n",
    "\n",
    "scaler = MinMaxScaler()\n",
    "scaler.fit(x_train)\n",
    "x_train = scaler.transform(x_train)\n",
    "x_train = pd.DataFrame(x_train)"
   ]
  },
  {
   "cell_type": "code",
   "execution_count": 25,
   "metadata": {},
   "outputs": [],
   "source": [
    "x_test = scaler.transform(x_test)\n",
    "x_test = pd.DataFrame(x_test)"
   ]
  },
  {
   "cell_type": "markdown",
   "metadata": {},
   "source": [
    "### Modeling"
   ]
  },
  {
   "cell_type": "markdown",
   "metadata": {},
   "source": [
    "#### Using RandomForestClassifier"
   ]
  },
  {
   "cell_type": "code",
   "execution_count": 26,
   "metadata": {},
   "outputs": [],
   "source": [
    "from sklearn.ensemble import RandomForestClassifier\n",
    "rf = RandomForestClassifier(n_estimators=40)\n",
    "rf.fit(x_train,y_train)\n",
    "RF_score=rf.score(x_test,y_test)*100"
   ]
  },
  {
   "cell_type": "code",
   "execution_count": 27,
   "metadata": {},
   "outputs": [
    {
     "name": "stdout",
     "output_type": "stream",
     "text": [
      "On  RandomForestClassifier\n",
      "Accuracy: 0.9658119658119658\n",
      "Classification Report:\n",
      "              precision    recall  f1-score   support\n",
      "\n",
      "         0.0       0.97      0.96      0.97      1932\n",
      "         1.0       0.96      0.97      0.97      1929\n",
      "\n",
      "    accuracy                           0.97      3861\n",
      "   macro avg       0.97      0.97      0.97      3861\n",
      "weighted avg       0.97      0.97      0.97      3861\n",
      "\n"
     ]
    }
   ],
   "source": [
    "from sklearn.metrics import accuracy_score, classification_report,confusion_matrix\n",
    "def Overall_Report(model,x,y):\n",
    "  y_test_predictions = model.predict(x)\n",
    "  print(\"On \",type(model).__name__)\n",
    "  accuracy = accuracy_score(y, y_test_predictions)\n",
    "  print(f'Accuracy: {accuracy}')\n",
    "\n",
    "  # Detailed classification report\n",
    "  print('Classification Report:')\n",
    "  print(classification_report(y, y_test_predictions))\n",
    "Overall_Report(rf,x_test,y_test)\n"
   ]
  },
  {
   "cell_type": "markdown",
   "metadata": {},
   "source": [
    "#### Using LogisticRegression"
   ]
  },
  {
   "cell_type": "code",
   "execution_count": 28,
   "metadata": {},
   "outputs": [
    {
     "name": "stdout",
     "output_type": "stream",
     "text": [
      "On  LogisticRegression\n",
      "Accuracy: 0.8557368557368558\n",
      "Classification Report:\n",
      "              precision    recall  f1-score   support\n",
      "\n",
      "         0.0       0.84      0.88      0.86      1932\n",
      "         1.0       0.87      0.84      0.85      1929\n",
      "\n",
      "    accuracy                           0.86      3861\n",
      "   macro avg       0.86      0.86      0.86      3861\n",
      "weighted avg       0.86      0.86      0.86      3861\n",
      "\n"
     ]
    }
   ],
   "source": [
    "from sklearn.linear_model import LogisticRegression\n",
    "LR = LogisticRegression()\n",
    "LR.fit(x_train, y_train)\n",
    "LR_score=LR.score(x_test,y_test)*100\n",
    "Overall_Report(LR,x_test,y_test)\n"
   ]
  },
  {
   "cell_type": "markdown",
   "metadata": {},
   "source": [
    "#### Using DecisionTreeClassifier"
   ]
  },
  {
   "cell_type": "code",
   "execution_count": 29,
   "metadata": {},
   "outputs": [
    {
     "name": "stdout",
     "output_type": "stream",
     "text": [
      "On  DecisionTreeClassifier\n",
      "Accuracy: 0.9642579642579643\n",
      "Classification Report:\n",
      "              precision    recall  f1-score   support\n",
      "\n",
      "         0.0       0.97      0.96      0.96      1932\n",
      "         1.0       0.96      0.97      0.96      1929\n",
      "\n",
      "    accuracy                           0.96      3861\n",
      "   macro avg       0.96      0.96      0.96      3861\n",
      "weighted avg       0.96      0.96      0.96      3861\n",
      "\n"
     ]
    }
   ],
   "source": [
    "from sklearn.tree import DecisionTreeClassifier\n",
    "clf = DecisionTreeClassifier()\n",
    "clf = clf.fit(x_train,y_train)\n",
    "clf_score=clf.score(x_test,y_test)*100\n",
    "Overall_Report(clf,x_test,y_test)"
   ]
  },
  {
   "cell_type": "code",
   "execution_count": 30,
   "metadata": {},
   "outputs": [
    {
     "data": {
      "image/png": "[encoded data removed]",
      "text/plain": [
       "<Figure size 640x480 with 1 Axes>"
      ]
     },
     "metadata": {},
     "output_type": "display_data"
    }
   ],
   "source": [
    "Models = ['DecisionTreeClassifier', 'LogisticRegression', 'RandomForestClassifier']\n",
    "Accuracy = [clf_score, LR_score, RF_score]\n",
    "\n",
    "# Create bar graph\n",
    "plt.bar(Models, Accuracy)\n",
    "\n",
    "# Add labels and title\n",
    "plt.xlabel('Models')\n",
    "plt.ylabel('Accuracy')\n",
    "plt.title('Accuracy_Score of different Models')\n",
    "\n",
    "# Display the plot\n",
    "plt.show()"
   ]
  }
 ],
 "metadata": {
  "kernelspec": {
   "display_name": "Python 3 (ipykernel)",
   "language": "python",
   "name": "python3"
  },
  "language_info": {
   "codemirror_mode": {
    "name": "ipython",
    "version": 3
   },
   "file_extension": ".py",
   "mimetype": "text/x-python",
   "name": "python",
   "nbconvert_exporter": "python",
   "pygments_lexer": "ipython3",
   "version": "3.12.3"
  }
 },
 "nbformat": 4,
 "nbformat_minor": 4
}
